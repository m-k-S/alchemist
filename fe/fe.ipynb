{
 "cells": [
  {
   "cell_type": "code",
   "execution_count": 39,
   "metadata": {},
   "outputs": [],
   "source": [
    "from ase import Atoms\n",
    "import ase.units as units\n",
    "from ase.io import read\n",
    "from ase.build import bulk\n",
    "from ase.calculators.espresso import Espresso\n",
    "\n",
    "import numpy as np\n",
    "import matplotlib.pyplot as plt\n",
    "\n",
    "import os\n",
    "import dotenv\n",
    "\n",
    "dotenv.load_dotenv()\n",
    "PWSCF_COMMAND = os.environ.get(\"PWSCF_COMMAND\")\n",
    "PPDIR = os.environ.get(\"PSEUDOPOTENTIALS\")\n",
    "\n",
    "outdir = \"./results\"\n",
    "if not os.path.exists(outdir):\n",
    "    os.mkdir(outdir)"
   ]
  },
  {
   "cell_type": "code",
   "execution_count": 23,
   "metadata": {},
   "outputs": [],
   "source": [
    "# Define system and electron parameters\n",
    "system_params = {\n",
    "    'smearing': 'mp',\n",
    "    'occupations': 'smearing',\n",
    "    'starting_magnetization(1)': 0.7,\n",
    "    'nat': 2,\n",
    "    'degauss': 0.02,\n",
    "    'nspin': 2,\n",
    "    'ntyp': 1,\n",
    "    'ibrav': 0,\n",
    "    'ecutwfc': 30 * units.eV,  # PW cutoff\n",
    "    'ecutrho': 240 * units.eV,  # Charge cutoff\n",
    "}\n",
    "\n",
    "electron_params = {\n",
    "    'diagonalization': 'david',\n",
    "    'mixing_beta': 0.5,\n",
    "    'conv_thr': 1e-07,\n",
    "}\n",
    "\n",
    "# Merge parameters into the input_data dictionary\n",
    "input_data = {\n",
    "    'system': system_params.copy(),\n",
    "    'electrons': electron_params.copy()\n",
    "}"
   ]
  },
  {
   "cell_type": "code",
   "execution_count": 36,
   "metadata": {},
   "outputs": [],
   "source": [
    "# Lattice constants in Angstroms\n",
    "a_bcc = 2.87 * units.Angstrom\n",
    "a_hcp = 2.45 * units.Angstrom \n",
    "c_hcp = 3.93 * units.Angstrom\n",
    "\n",
    "k_points = 3\n",
    "\n",
    "# Building the crystal structures\n",
    "iron_bcc = bulk('Fe', 'bcc', a=a_bcc)\n",
    "iron_hcp = bulk('Fe', 'hcp', a=a_hcp, c=c_hcp)\n",
    "\n",
    "# Setup DFT calculation parameters\n",
    "pseudopotentials = {'Fe': 'Fe.pbe-nd-rrkjus.UPF'}  # Example, change as needed\n",
    "\n",
    "calc_params = {\n",
    "    'calculation': 'vc-relax',\n",
    "    'tprnfor': True,\n",
    "    'tstress': True,\n",
    "    'input_data': {\n",
    "        'system': {\n",
    "            'ecutwfc': 30 * units.eV,  # PW cutoff\n",
    "            'ecutrho': 240 * units.eV,  # Charge cutoff\n",
    "        },\n",
    "        'electrons': {\n",
    "            'diagonalization': 'david',\n",
    "            'mixing_beta': 0.5,\n",
    "            'conv_thr': 1e-07,\n",
    "        }\n",
    "    },\n",
    "    'pseudopotentials': pseudopotentials,\n",
    "    'kpts': (k_points, k_points, k_points),  # k-points grid, adjust as needed\n",
    "    'parallel': 'all',\n",
    "    'directory': outdir,  # Custom directory for calculation files\n",
    "    'label': \"Fe\",  # Prefix for the filenames\n",
    "    'logfile': \"Fe.log\",  # Logfile name\n",
    "    'command': PWSCF_COMMAND + \" -in Fe.pwi > Fe.pwo\",\n",
    "    'pseudo_dir': PPDIR,\n",
    "}\n",
    "\n"
   ]
  },
  {
   "cell_type": "code",
   "execution_count": 37,
   "metadata": {},
   "outputs": [
    {
     "name": "stdout",
     "output_type": "stream",
     "text": [
      "BCC Iron Total Energy: -757.915668357827 eV\n"
     ]
    },
    {
     "name": "stderr",
     "output_type": "stream",
     "text": [
      "Note: The following floating-point exceptions are signalling: IEEE_INVALID_FLAG IEEE_UNDERFLOW_FLAG\n",
      "Note: The following floating-point exceptions are signalling: IEEE_UNDERFLOW_FLAG\n",
      "Note: The following floating-point exceptions are signalling: IEEE_INVALID_FLAG IEEE_DIVIDE_BY_ZERO IEEE_UNDERFLOW_FLAG\n",
      "Note: The following floating-point exceptions are signalling: IEEE_UNDERFLOW_FLAG\n"
     ]
    }
   ],
   "source": [
    "# Attach the calculator to the structures\n",
    "calculator = Espresso(**calc_params)\n",
    "iron_bcc.set_calculator(calculator)\n",
    "# iron_hcp.set_calculator(calculator)\n",
    "\n",
    "# Running the calculation\n",
    "energy_bcc = iron_bcc.get_potential_energy()\n",
    "# energy_hcp = iron_hcp.get_potential_energy()\n",
    "\n",
    "print(f\"BCC Iron Total Energy: {energy_bcc} eV\")\n",
    "# print(f\"HCP Iron Total Energy: {energy_hcp} eV\")"
   ]
  },
  {
   "cell_type": "code",
   "execution_count": 41,
   "metadata": {},
   "outputs": [
    {
     "name": "stdout",
     "output_type": "stream",
     "text": [
      "[2.44313078 2.44313078 2.44313078]\n"
     ]
    }
   ],
   "source": [
    "final_structure = read('results/Fe.pwo') \n",
    "\n",
    "# Extracting the lattice constants\n",
    "lattice_constants = final_structure.cell.lengths()\n",
    "print (lattice_constants)"
   ]
  },
  {
   "cell_type": "code",
   "execution_count": null,
   "metadata": {},
   "outputs": [],
   "source": [
    "for k in range(3, 6):\n",
    "    k_points = (k, k, k)\n",
    "    calc_params['kpts'] = k_points\n",
    "    calculator = Espresso(**calc_params)\n",
    "    iron_bcc.set_calculator(calculator) "
   ]
  }
 ],
 "metadata": {
  "kernelspec": {
   "display_name": "ase",
   "language": "python",
   "name": "python3"
  },
  "language_info": {
   "codemirror_mode": {
    "name": "ipython",
    "version": 3
   },
   "file_extension": ".py",
   "mimetype": "text/x-python",
   "name": "python",
   "nbconvert_exporter": "python",
   "pygments_lexer": "ipython3",
   "version": "3.9.18"
  }
 },
 "nbformat": 4,
 "nbformat_minor": 2
}

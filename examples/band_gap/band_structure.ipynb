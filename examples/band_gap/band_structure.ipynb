{
 "cells": [
  {
   "cell_type": "code",
   "execution_count": null,
   "metadata": {},
   "outputs": [],
   "source": [
    "from ase import Atoms\n",
    "import ase.units as units\n",
    "from ase.io import read\n",
    "from ase.build import bulk\n",
    "from ase.calculators.espresso import Espresso\n",
    "\n",
    "import numpy as np\n",
    "import matplotlib.pyplot as plt\n",
    "\n",
    "\n",
    "from copy import deepcopy\n",
    "import os\n",
    "import dotenv\n",
    "\n",
    "from mp_api.client import MPRester\n",
    "from pymatgen.io.ase import AseAtomsAdaptor\n"
   ]
  },
  {
   "cell_type": "code",
   "execution_count": null,
   "metadata": {},
   "outputs": [],
   "source": [
    "## Global Config ##\n",
    "\n",
    "dotenv.load_dotenv()\n",
    "PWSCF_COMMAND = os.environ.get(\"PWSCF_COMMAND\")\n",
    "PPDIR = os.environ.get(\"PSEUDOPOTENTIALS\")\n",
    "MP_API_KEY = os.environ.get(\"MP_API_KEY\")\n",
    "\n",
    "MP_ID = \"mp-1211504\""
   ]
  },
  {
   "cell_type": "code",
   "execution_count": null,
   "metadata": {},
   "outputs": [],
   "source": [
    "## Get the structure from the Materials Project and convert to ASE\n",
    "\n",
    "def get_cif(material_id):\n",
    "    m = MPRester(MP_API_KEY)\n",
    "    structure = m.get_structure_by_material_id(material_id)\n",
    "    return structure\n",
    "\n",
    "cif = get_cif(MP_ID)  \n",
    "reduced_formula = str(cif).split(\"\\n\")[1].split(\": \")[1]\n",
    "\n",
    "AAA = AseAtomsAdaptor()\n",
    "lattice = AAA.get_atoms(cif)\n",
    "\n",
    "outdir = \"./{}\".format(reduced_formula)\n",
    "if not os.path.exists(outdir):\n",
    "    os.mkdir(outdir)"
   ]
  },
  {
   "cell_type": "code",
   "execution_count": null,
   "metadata": {},
   "outputs": [],
   "source": [
    "## Quantum Espresso Config ## \n",
    "pseudopotentials = {}\n",
    "for symbol in np.unique(lattice.get_chemical_symbols()):\n",
    "    for pp in os.listdir(PPDIR):\n",
    "        if pp.lower().startswith(symbol.lower()) and not (pp.lower()[1].isalpha() and not (len(symbol) > 1 and symbol[1].islower())):\n",
    "            pseudopotentials[symbol] = pp   \n",
    "        \n",
    "k_points = 8\n",
    "scf_params = {\n",
    "    'calculation': 'scf',\n",
    "    'tprnfor': True,\n",
    "    'tstress': True,\n",
    "    'input_data': {\n",
    "        'system': {\n",
    "            'ecutwfc': 30 * units.eV,  # PW cutoff\n",
    "            'ecutrho': 240 * units.eV,  # Charge cutoff\n",
    "            'ibrav': 0\n",
    "        },\n",
    "        'electrons': {\n",
    "            'diagonalization': 'david',\n",
    "            'mixing_beta': 0.5,\n",
    "            'conv_thr': 1e8,\n",
    "        }\n",
    "    },\n",
    "    'pseudopotentials': pseudopotentials,\n",
    "    'kpts': (k_points, k_points, k_points),  # k-points grid, adjust as needed\n",
    "    'parallel': 'all',\n",
    "    'directory': outdir,  # Custom directory for calculation files\n",
    "    'label': reduced_formula,  # Prefix for the filenames\n",
    "    'logfile': \"{}.log\".format(reduced_formula),  # Logfile name\n",
    "    'command': \"mpirun -np 8 \" + PWSCF_COMMAND + \" -in {}.pwi > {}.pwo\".format(reduced_formula, reduced_formula),\n",
    "    'pseudo_dir': PPDIR,\n",
    "}\n",
    "\n",
    "bands_params = deepcopy(scf_params)\n",
    "bands_params['calculation'] = 'bands'\n",
    "bands_params['restart_mode'] = 'restart'\n",
    "bands_params['verbosity'] = 'high'\n",
    "bands_params['label'] = reduced_formula + '_bands'\n",
    "bands_params['logfile'] = reduced_formula + '_bands.log'\n",
    "bands_params['command'] = \"mpirun -np 8 \" + PWSCF_COMMAND + \" -in {}.pwi > {}.pwo\".format(reduced_formula + '_bands', reduced_formula + '_bands')"
   ]
  },
  {
   "cell_type": "code",
   "execution_count": null,
   "metadata": {},
   "outputs": [],
   "source": [
    "# Attach the calculator to the structures\n",
    "calculator = Espresso(**scf_params)\n",
    "lattice.set_calculator(calculator)\n",
    "energy = lattice.get_potential_energy()\n",
    "fermi = calculator.get_fermi_level()\n",
    "\n",
    "final_structure = read('{}/{}.pwo'.format(outdir, reduced_formula)) "
   ]
  },
  {
   "cell_type": "code",
   "execution_count": null,
   "metadata": {},
   "outputs": [],
   "source": [
    "band_calculator = Espresso(**bands_params)\n",
    "final_structure.set_calculator(band_calculator)\n",
    "band_calculator.calculate(final_structure)"
   ]
  }
 ],
 "metadata": {
  "kernelspec": {
   "display_name": "ase",
   "language": "python",
   "name": "python3"
  },
  "language_info": {
   "codemirror_mode": {
    "name": "ipython",
    "version": 3
   },
   "file_extension": ".py",
   "mimetype": "text/x-python",
   "name": "python",
   "nbconvert_exporter": "python",
   "pygments_lexer": "ipython3",
   "version": "3.9.18"
  }
 },
 "nbformat": 4,
 "nbformat_minor": 2
}

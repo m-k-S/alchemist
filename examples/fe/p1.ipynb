{
 "cells": [
  {
   "cell_type": "code",
   "execution_count": 2,
   "metadata": {},
   "outputs": [],
   "source": [
    "from ase import Atoms\n",
    "import ase.units as units\n",
    "from ase.io import read\n",
    "from ase.build import bulk\n",
    "from ase.calculators.espresso import Espresso\n",
    "\n",
    "import numpy as np\n",
    "import matplotlib.pyplot as plt\n",
    "\n",
    "import os\n",
    "import dotenv\n",
    "\n",
    "dotenv.load_dotenv()\n",
    "PWSCF_COMMAND = os.environ.get(\"PWSCF_COMMAND\")\n",
    "PPDIR = os.environ.get(\"PSEUDOPOTENTIALS\")\n",
    "\n",
    "outdir = \"./results\"\n",
    "if not os.path.exists(outdir):\n",
    "    os.mkdir(outdir)"
   ]
  },
  {
   "cell_type": "code",
   "execution_count": 3,
   "metadata": {},
   "outputs": [],
   "source": [
    "# Define system and electron parameters\n",
    "system_params = {\n",
    "    'smearing': 'mp',\n",
    "    'occupations': 'smearing',\n",
    "    'starting_magnetization(1)': 0.7,\n",
    "    'nat': 2,\n",
    "    'degauss': 0.02,\n",
    "    'nspin': 2,\n",
    "    'ntyp': 1,\n",
    "    'ibrav': 0,\n",
    "    'ecutwfc': 30 * units.eV,  # PW cutoff\n",
    "    'ecutrho': 240 * units.eV,  # Charge cutoff\n",
    "}\n",
    "\n",
    "electron_params = {\n",
    "    'diagonalization': 'david',\n",
    "    'mixing_beta': 0.5,\n",
    "    'conv_thr': 1e-07,\n",
    "}\n",
    "\n",
    "# Merge parameters into the input_data dictionary\n",
    "input_data = {\n",
    "    'system': system_params.copy(),\n",
    "    'electrons': electron_params.copy()\n",
    "}"
   ]
  },
  {
   "cell_type": "code",
   "execution_count": 5,
   "metadata": {},
   "outputs": [],
   "source": [
    "# Lattice constants in Angstroms\n",
    "a_bcc = 2.87 * units.Angstrom\n",
    "a_hcp = 2.45 * units.Angstrom \n",
    "c_hcp = 3.93 * units.Angstrom\n",
    "\n",
    "k_points = 3\n",
    "\n",
    "# Building the crystal structures\n",
    "iron_bcc = bulk('Fe', 'bcc', a=a_bcc)\n",
    "iron_hcp = bulk('Fe', 'hcp', a=a_hcp, c=c_hcp)  \n",
    "\n",
    "# Setup DFT calculation parameters\n",
    "pseudopotentials = {'Fe': 'Fe.pbe-nd-rrkjus.UPF'}  # Example, change as needed\n",
    "\n",
    "calc_params = {\n",
    "    'calculation': 'vc-relax',\n",
    "    'tprnfor': True,\n",
    "    'tstress': True,\n",
    "    'input_data': {\n",
    "        'system': {\n",
    "            'ecutwfc': 30 * units.eV,  # PW cutoff\n",
    "            'ecutrho': 240 * units.eV,  # Charge cutoff\n",
    "        },\n",
    "        'electrons': {\n",
    "            'diagonalization': 'david',\n",
    "            'mixing_beta': 0.5,\n",
    "            'conv_thr': 1e-07,\n",
    "        }\n",
    "    },\n",
    "    'pseudopotentials': pseudopotentials,\n",
    "    'kpts': (k_points, k_points, k_points),  # k-points grid, adjust as needed\n",
    "    'parallel': 'all',\n",
    "    'directory': outdir,  # Custom directory for calculation files\n",
    "    'label': \"Fe\",  # Prefix for the filenames\n",
    "    'logfile': \"Fe.log\",  # Logfile name\n",
    "    'command': \"mpirun -np 16 \" + PWSCF_COMMAND + \" -in Fe.pwi > Fe.pwo\",\n",
    "    'pseudo_dir': PPDIR,\n",
    "}"
   ]
  },
  {
   "cell_type": "code",
   "execution_count": 6,
   "metadata": {},
   "outputs": [
    {
     "name": "stderr",
     "output_type": "stream",
     "text": [
      "--------------------------------------------------------------------------\n",
      "MPI_ABORT was invoked on rank 14 in communicator MPI_COMM_WORLD\n",
      "with errorcode 1.\n",
      "\n",
      "NOTE: invoking MPI_ABORT causes Open MPI to kill all MPI processes.\n",
      "You may or may not see output from other processes, depending on\n",
      "exactly when Open MPI kills them.\n",
      "--------------------------------------------------------------------------\n",
      "[potato.mit.edu:2724778] PMIX ERROR: UNREACHABLE in file server/pmix_server.c at line 2198\n",
      "[potato.mit.edu:2724778] PMIX ERROR: UNREACHABLE in file server/pmix_server.c at line 2198\n",
      "[potato.mit.edu:2724778] PMIX ERROR: UNREACHABLE in file server/pmix_server.c at line 2198\n",
      "[potato.mit.edu:2724778] 15 more processes have sent help message help-mpi-api.txt / mpi-abort\n",
      "[potato.mit.edu:2724778] Set MCA parameter \"orte_base_help_aggregate\" to 0 to see all help / error messages\n"
     ]
    },
    {
     "ename": "CalculationFailed",
     "evalue": "Calculator \"espresso\" failed with command \"mpirun -np 16 /usr/bin/pw.x -in Fe.pwi > Fe.pwo\" failed in /home/maxaalto/alchemist/results with error code 1",
     "output_type": "error",
     "traceback": [
      "\u001b[0;31m---------------------------------------------------------------------------\u001b[0m",
      "\u001b[0;31mCalculationFailed\u001b[0m                         Traceback (most recent call last)",
      "\u001b[1;32m/Users/muon/Documents/2023-computational/alchemist/examples/fe/fe.ipynb Cell 4\u001b[0m line \u001b[0;36m1\n\u001b[1;32m     <a href='vscode-notebook-cell:/Users/muon/Documents/2023-computational/alchemist/examples/fe/fe.ipynb#W3sZmlsZQ%3D%3D?line=11'>12</a>\u001b[0m \u001b[39mif\u001b[39;00m lattice \u001b[39m==\u001b[39m \u001b[39m'\u001b[39m\u001b[39mbcc\u001b[39m\u001b[39m'\u001b[39m:\n\u001b[1;32m     <a href='vscode-notebook-cell:/Users/muon/Documents/2023-computational/alchemist/examples/fe/fe.ipynb#W3sZmlsZQ%3D%3D?line=12'>13</a>\u001b[0m     iron_bcc\u001b[39m.\u001b[39mset_calculator(calculator)\n\u001b[0;32m---> <a href='vscode-notebook-cell:/Users/muon/Documents/2023-computational/alchemist/examples/fe/fe.ipynb#W3sZmlsZQ%3D%3D?line=13'>14</a>\u001b[0m     energy_bcc \u001b[39m=\u001b[39m iron_bcc\u001b[39m.\u001b[39;49mget_potential_energy()\n\u001b[1;32m     <a href='vscode-notebook-cell:/Users/muon/Documents/2023-computational/alchemist/examples/fe/fe.ipynb#W3sZmlsZQ%3D%3D?line=14'>15</a>\u001b[0m     energies_bcc\u001b[39m.\u001b[39mappend(energy_bcc)\n\u001b[1;32m     <a href='vscode-notebook-cell:/Users/muon/Documents/2023-computational/alchemist/examples/fe/fe.ipynb#W3sZmlsZQ%3D%3D?line=16'>17</a>\u001b[0m     final_structure \u001b[39m=\u001b[39m read(\u001b[39m'\u001b[39m\u001b[39mresults/Fe.pwo\u001b[39m\u001b[39m'\u001b[39m) \n",
      "File \u001b[0;32m~/miniforge3/envs/ase/lib/python3.9/site-packages/ase/atoms.py:731\u001b[0m, in \u001b[0;36mAtoms.get_potential_energy\u001b[0;34m(self, force_consistent, apply_constraint)\u001b[0m\n\u001b[1;32m    728\u001b[0m     energy \u001b[39m=\u001b[39m \u001b[39mself\u001b[39m\u001b[39m.\u001b[39m_calc\u001b[39m.\u001b[39mget_potential_energy(\n\u001b[1;32m    729\u001b[0m         \u001b[39mself\u001b[39m, force_consistent\u001b[39m=\u001b[39mforce_consistent)\n\u001b[1;32m    730\u001b[0m \u001b[39melse\u001b[39;00m:\n\u001b[0;32m--> 731\u001b[0m     energy \u001b[39m=\u001b[39m \u001b[39mself\u001b[39;49m\u001b[39m.\u001b[39;49m_calc\u001b[39m.\u001b[39;49mget_potential_energy(\u001b[39mself\u001b[39;49m)\n\u001b[1;32m    732\u001b[0m \u001b[39mif\u001b[39;00m apply_constraint:\n\u001b[1;32m    733\u001b[0m     \u001b[39mfor\u001b[39;00m constraint \u001b[39min\u001b[39;00m \u001b[39mself\u001b[39m\u001b[39m.\u001b[39mconstraints:\n",
      "File \u001b[0;32m~/miniforge3/envs/ase/lib/python3.9/site-packages/ase/calculators/calculator.py:709\u001b[0m, in \u001b[0;36mCalculator.get_potential_energy\u001b[0;34m(self, atoms, force_consistent)\u001b[0m\n\u001b[1;32m    708\u001b[0m \u001b[39mdef\u001b[39;00m \u001b[39mget_potential_energy\u001b[39m(\u001b[39mself\u001b[39m, atoms\u001b[39m=\u001b[39m\u001b[39mNone\u001b[39;00m, force_consistent\u001b[39m=\u001b[39m\u001b[39mFalse\u001b[39;00m):\n\u001b[0;32m--> 709\u001b[0m     energy \u001b[39m=\u001b[39m \u001b[39mself\u001b[39;49m\u001b[39m.\u001b[39;49mget_property(\u001b[39m'\u001b[39;49m\u001b[39menergy\u001b[39;49m\u001b[39m'\u001b[39;49m, atoms)\n\u001b[1;32m    710\u001b[0m     \u001b[39mif\u001b[39;00m force_consistent:\n\u001b[1;32m    711\u001b[0m         \u001b[39mif\u001b[39;00m \u001b[39m'\u001b[39m\u001b[39mfree_energy\u001b[39m\u001b[39m'\u001b[39m \u001b[39mnot\u001b[39;00m \u001b[39min\u001b[39;00m \u001b[39mself\u001b[39m\u001b[39m.\u001b[39mresults:\n",
      "File \u001b[0;32m~/miniforge3/envs/ase/lib/python3.9/site-packages/ase/calculators/calculator.py:737\u001b[0m, in \u001b[0;36mCalculator.get_property\u001b[0;34m(self, name, atoms, allow_calculation)\u001b[0m\n\u001b[1;32m    735\u001b[0m     \u001b[39mif\u001b[39;00m \u001b[39mnot\u001b[39;00m allow_calculation:\n\u001b[1;32m    736\u001b[0m         \u001b[39mreturn\u001b[39;00m \u001b[39mNone\u001b[39;00m\n\u001b[0;32m--> 737\u001b[0m     \u001b[39mself\u001b[39;49m\u001b[39m.\u001b[39;49mcalculate(atoms, [name], system_changes)\n\u001b[1;32m    739\u001b[0m \u001b[39mif\u001b[39;00m name \u001b[39mnot\u001b[39;00m \u001b[39min\u001b[39;00m \u001b[39mself\u001b[39m\u001b[39m.\u001b[39mresults:\n\u001b[1;32m    740\u001b[0m     \u001b[39m# For some reason the calculator was not able to do what we want,\u001b[39;00m\n\u001b[1;32m    741\u001b[0m     \u001b[39m# and that is OK.\u001b[39;00m\n\u001b[1;32m    742\u001b[0m     \u001b[39mraise\u001b[39;00m PropertyNotImplementedError(\u001b[39m'\u001b[39m\u001b[39m{}\u001b[39;00m\u001b[39m not present in this \u001b[39m\u001b[39m'\u001b[39m\n\u001b[1;32m    743\u001b[0m                                       \u001b[39m'\u001b[39m\u001b[39mcalculation\u001b[39m\u001b[39m'\u001b[39m\u001b[39m.\u001b[39mformat(name))\n",
      "File \u001b[0;32m~/miniforge3/envs/ase/lib/python3.9/site-packages/ase/calculators/calculator.py:938\u001b[0m, in \u001b[0;36mFileIOCalculator.calculate\u001b[0;34m(self, atoms, properties, system_changes)\u001b[0m\n\u001b[1;32m    934\u001b[0m     path \u001b[39m=\u001b[39m os\u001b[39m.\u001b[39mpath\u001b[39m.\u001b[39mabspath(\u001b[39mself\u001b[39m\u001b[39m.\u001b[39mdirectory)\n\u001b[1;32m    935\u001b[0m     msg \u001b[39m=\u001b[39m (\u001b[39m'\u001b[39m\u001b[39mCalculator \u001b[39m\u001b[39m\"\u001b[39m\u001b[39m{}\u001b[39;00m\u001b[39m\"\u001b[39m\u001b[39m failed with command \u001b[39m\u001b[39m\"\u001b[39m\u001b[39m{}\u001b[39;00m\u001b[39m\"\u001b[39m\u001b[39m failed in \u001b[39m\u001b[39m'\u001b[39m\n\u001b[1;32m    936\u001b[0m            \u001b[39m'\u001b[39m\u001b[39m{}\u001b[39;00m\u001b[39m with error code \u001b[39m\u001b[39m{}\u001b[39;00m\u001b[39m'\u001b[39m\u001b[39m.\u001b[39mformat(\u001b[39mself\u001b[39m\u001b[39m.\u001b[39mname, command,\n\u001b[1;32m    937\u001b[0m                                           path, errorcode))\n\u001b[0;32m--> 938\u001b[0m     \u001b[39mraise\u001b[39;00m CalculationFailed(msg)\n\u001b[1;32m    940\u001b[0m \u001b[39mself\u001b[39m\u001b[39m.\u001b[39mread_results()\n",
      "\u001b[0;31mCalculationFailed\u001b[0m: Calculator \"espresso\" failed with command \"mpirun -np 16 /usr/bin/pw.x -in Fe.pwi > Fe.pwo\" failed in /home/maxaalto/alchemist/results with error code 1"
     ]
    }
   ],
   "source": [
    "energies_bcc = []\n",
    "energies_hcp = []\n",
    "lattice_params_bcc = []\n",
    "lattice_params_hcp = []\n",
    "for lattice in ['bcc', 'hcp']:\n",
    "    for k in [3, 4, 5, 6]:\n",
    "        calc_params['kpts'] = (k, k, k)\n",
    "\n",
    "        # Attach the calculator to the structures\n",
    "        calculator = Espresso(**calc_params)\n",
    "\n",
    "        if lattice == 'bcc':\n",
    "            iron_bcc.set_calculator(calculator)\n",
    "            energy_bcc = iron_bcc.get_potential_energy()\n",
    "            energies_bcc.append(energy_bcc)\n",
    "\n",
    "            final_structure = read('results/Fe.pwo') \n",
    "            lattice_params_bcc.append(final_structure.cell.lengths())\n",
    "\n",
    "\n",
    "        elif lattice == 'hcp':\n",
    "            iron_hcp.set_calculator(calculator)\n",
    "            energy_hcp = iron_hcp.get_potential_energy()\n",
    "            energies_hcp.append(energy_hcp)\n",
    "\n",
    "            final_structure = read('results/Fe.pwo') \n",
    "            lattice_params_hcp.append(final_structure.cell.lengths())\n"
   ]
  },
  {
   "cell_type": "code",
   "execution_count": 41,
   "metadata": {},
   "outputs": [
    {
     "name": "stdout",
     "output_type": "stream",
     "text": [
      "[2.44313078 2.44313078 2.44313078]\n"
     ]
    }
   ],
   "source": [
    "final_structure = read('results/Fe.pwo') \n",
    "\n",
    "# Extracting the lattice constants\n",
    "lattice_constants = final_structure.cell.lengths()\n",
    "print (lattice_constants)"
   ]
  },
  {
   "cell_type": "code",
   "execution_count": null,
   "metadata": {},
   "outputs": [],
   "source": [
    "for k in range(3, 6):\n",
    "    k_points = (k, k, k)\n",
    "    calc_params['kpts'] = k_points\n",
    "    calculator = Espresso(**calc_params)\n",
    "    iron_bcc.set_calculator(calculator) "
   ]
  }
 ],
 "metadata": {
  "kernelspec": {
   "display_name": "Python 3 (ipykernel)",
   "language": "python",
   "name": "python3"
  },
  "language_info": {
   "codemirror_mode": {
    "name": "ipython",
    "version": 3
   },
   "file_extension": ".py",
   "mimetype": "text/x-python",
   "name": "python",
   "nbconvert_exporter": "python",
   "pygments_lexer": "ipython3",
   "version": "3.9.18"
  }
 },
 "nbformat": 4,
 "nbformat_minor": 2
}

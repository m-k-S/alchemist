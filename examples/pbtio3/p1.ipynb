{
 "cells": [
  {
   "cell_type": "code",
   "execution_count": 1,
   "metadata": {},
   "outputs": [],
   "source": [
    "from ase import Atoms\n",
    "import ase.units as units\n",
    "from ase.io import read\n",
    "from ase.build import bulk\n",
    "from ase.spacegroup import crystal\n",
    "from ase.calculators.espresso import Espresso\n",
    "\n",
    "import numpy as np\n",
    "import matplotlib.pyplot as plt\n",
    "\n",
    "import os\n",
    "import dotenv\n",
    "\n",
    "dotenv.load_dotenv()\n",
    "PWSCF_COMMAND = os.environ.get(\"PWSCF_COMMAND\")\n",
    "PPDIR = os.environ.get(\"PSEUDOPOTENTIALS\")\n",
    "\n",
    "outdir = \"./results\"\n",
    "if not os.path.exists(outdir):\n",
    "    os.mkdir(outdir)"
   ]
  },
  {
   "cell_type": "code",
   "execution_count": null,
   "metadata": {},
   "outputs": [],
   "source": [
    "pseudopotentials = {\n",
    "    'Pb': 'Pb.pz-d-van.UPF',\n",
    "    'Ti': 'Ti.pz-sp-van_ak.UPF',\n",
    "    'O': 'O.pz-rrkjus.UPF'\n",
    "}  \n",
    "\n",
    "# Quantum Espresso parameters\n",
    "qe_params = {\n",
    "    'ecutwfc': 30,\n",
    "    'ecutrho': 300,\n",
    "    'kpts': (3, 3, 3),\n",
    "    \n",
    "    'calculation': 'scf',\n",
    "    'pseudo_dir': PPDIR,\n",
    "}\n",
    "\n",
    "# Initialize arrays to store results\n",
    "energies = []\n",
    "\n",
    "# Constants\n",
    "a_exp = 3.97  # Experimental lattice constant in Angstrom\n",
    "a_range = 0.5  # Range to vary lattice constant\n",
    "n_points = 20  # Number of points in the lattice constant range\n",
    "\n",
    "# Define lattice parameters to sample\n",
    "lattice_params = np.linspace(a_exp - a_range, a_exp + a_range, n_points)\n",
    "\n",
    "# Loop over lattice parameters\n",
    "for a in lattice_params:\n",
    "    # Define the crystal structure\n",
    "    atoms = crystal(['Pb', 'Ti', 'O', 'O', 'O'],\n",
    "                    basis=[(0, 0, 0), (0.5, 0.5, 0.5), (0, 0.5, 0.5), (0.5, 0, 0.5), (0.5, 0.5, 0)],\n",
    "                    spacegroup=221,\n",
    "                    cellpar=[a, a, a, 90, 90, 90])\n",
    "\n",
    "    # Set up Quantum Espresso calculator\n",
    "    calc = Espresso(parameters=qe_params)\n",
    "    atoms.set_calculator(calc)\n",
    "\n",
    "    # Calculate energy\n",
    "    energy = atoms.get_potential_energy()\n",
    "    energies.append(energy)\n"
   ]
  },
  {
   "cell_type": "code",
   "execution_count": null,
   "metadata": {},
   "outputs": [],
   "source": [
    "\n",
    "# Plotting\n",
    "plt.plot(lattice_params, energies, '-o')\n",
    "plt.xlabel('Lattice Parameter (Å)')\n",
    "plt.ylabel('Energy (eV)')\n",
    "plt.title('Energy vs Lattice Parameter for Cubic PbTiO3')\n",
    "plt.show()"
   ]
  }
 ],
 "metadata": {
  "kernelspec": {
   "display_name": "ase",
   "language": "python",
   "name": "python3"
  },
  "language_info": {
   "codemirror_mode": {
    "name": "ipython",
    "version": 3
   },
   "file_extension": ".py",
   "mimetype": "text/x-python",
   "name": "python",
   "nbconvert_exporter": "python",
   "pygments_lexer": "ipython3",
   "version": "3.9.18"
  }
 },
 "nbformat": 4,
 "nbformat_minor": 2
}

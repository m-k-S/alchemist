{
 "cells": [
  {
   "cell_type": "code",
   "execution_count": null,
   "metadata": {},
   "outputs": [],
   "source": [
    "from ase import Atoms\n",
    "import ase.units as units\n",
    "from ase.io import read\n",
    "from ase.build import bulk\n",
    "from ase.spacegroup import crystal\n",
    "from ase.calculators.espresso import Espresso\n",
    "from ase.constraints import FixAtoms, FixScaled\n",
    "\n",
    "import numpy as np\n",
    "import matplotlib.pyplot as plt\n",
    "\n",
    "import os\n",
    "import dotenv\n",
    "\n",
    "dotenv.load_dotenv()\n",
    "PWSCF_COMMAND = os.environ.get(\"PWSCF_COMMAND\")\n",
    "PPDIR = os.environ.get(\"PSEUDOPOTENTIALS\")\n",
    "\n",
    "outdir = \"./results\"\n",
    "if not os.path.exists(outdir):\n",
    "    os.mkdir(outdir)"
   ]
  },
  {
   "cell_type": "code",
   "execution_count": null,
   "metadata": {},
   "outputs": [],
   "source": [
    "pseudopotentials = {\n",
    "    'Pb': 'Pb.pz-d-van.UPF',\n",
    "    'Ti': 'Ti.pz-sp-van_ak.UPF',\n",
    "    'O': 'O.pz-rrkjus.UPF'\n",
    "}  \n",
    "\n",
    "# Quantum Espresso parameters\n",
    "qe_params = {\n",
    "    'ecutwfc': 30,\n",
    "    'ecutrho': 300,\n",
    "    'kpts': {'size': (4, 4, 4), 'offset': (1, 1, 1)},\n",
    "    'calculation': 'vc-relax',\n",
    "    'pseudo_dir': PPDIR,\n",
    "}\n",
    "\n",
    "# Initialize arrays to store results\n",
    "energies = []\n",
    "\n",
    "# Constants\n",
    "a = 3.97  # Experimental lattice constant in Angstrom\n",
    "eps = ?\n",
    "\n",
    "# Define the crystal structure\n",
    "atoms = crystal(['Pb', 'Ti', 'O', 'O', 'O'],\n",
    "                basis=[(0, 0, 0), (0.5, 0.5 + eps, 0.5), (0, 0.5, 0.5), (0.5, 0, 0.5), (0.5, 0.5, 0)],\n",
    "                spacegroup=221,\n",
    "                cellpar=[a, a, a, 90, 90, 90])\n",
    "\n",
    "# mask = [(True, True, True),  # Fixing only the x-axis of the first atom\n",
    "#     (True, True, True),\n",
    "#     (False, False, False),\n",
    "#         (False, False, False),\n",
    "#     (False, False, False)]  \n",
    "\n",
    "# constraint = FixScaled(atoms.get_cell(), mask)\n",
    "constraint = FixAtoms(indices=[0])  # Fixing the first hydrogen atom entirely\n",
    "atoms.set_constraint(constraint)\n",
    "\n",
    "# Set up Quantum Espresso calculator\n",
    "calc = Espresso(parameters=qe_params)\n",
    "atoms.set_calculator(calc)\n",
    "\n",
    "# Calculate energy\n",
    "energy = atoms.get_potential_energy()\n",
    "energies.append(energy)\n",
    "\n"
   ]
  },
  {
   "cell_type": "code",
   "execution_count": null,
   "metadata": {},
   "outputs": [],
   "source": [
    "final_structure = read('results/PbTiO3_relax.pwo') \n",
    "print (final_structure.cell.lengths())\n"
   ]
  }
 ],
 "metadata": {
  "language_info": {
   "name": "python"
  }
 },
 "nbformat": 4,
 "nbformat_minor": 2
}
